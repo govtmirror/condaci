{
 "cells": [
  {
   "cell_type": "code",
   "execution_count": null,
   "metadata": {
    "collapsed": true
   },
   "outputs": [],
   "source": [
    "import os\n",
    "import subprocess\n",
    "\n",
    "CONDACI_URL_START = 'https://raw.githubusercontent.com/menpo/condaci/v'\n",
    "\n",
    "PROJECTS = ['menpo', \n",
    "            'menpofit', \n",
    "            'menpodetect', \n",
    "            'menpo3d', \n",
    "            'menpobench',\n",
    "            'landmarkerio-server',\n",
    "            'cyassimp',\n",
    "            'cyrasterize',\n",
    "            'cyvlfeat',\n",
    "            'cyffld2',\n",
    "            'cypico',\n",
    "            'conda-dlib', \n",
    "            'conda-boost', \n",
    "            'conda-joblib', \n",
    "            'conda-enum', \n",
    "            'conda-flann',\n",
    "            'conda-cherrypy',\n",
    "            'conda-pathlib',\n",
    "            'conda-eigen',\n",
    "            'vrml97']\n",
    "\n",
    "def load_file(fpath):\n",
    "    with open(fpath, 'rt') as f:\n",
    "        text = f.read()\n",
    "    return text\n",
    "\n",
    "\n",
    "def save_file(fpath, string):\n",
    "    with open(fpath, 'wt') as f:\n",
    "        f.write(string)\n",
    "        \n",
    "        \n",
    "def replace_version_in_str(string, v):\n",
    "    before, after = string.split(CONDACI_URL_START)\n",
    "    before += CONDACI_URL_START\n",
    "\n",
    "    old_v, after = after.split('/', 1)\n",
    "    after = '/' + after\n",
    "    return before + v + after, old_v\n",
    "\n",
    "\n",
    "def replace_version(fpath, v):\n",
    "    text = load_file(fpath)\n",
    "    fixed, old_v = replace_version_in_str(text, v)\n",
    "    print('{} -> {}  {}'.format(old_v, v, fpath))\n",
    "    save_file(fpath, fixed)\n",
    "    return old_v\n",
    "    \n",
    "    \n",
    "def replace_version_in_project(repo_dir, v):\n",
    "    travis = os.path.join(repo_dir, '.travis.yml')\n",
    "    old_v_t = replace_version(travis, v)\n",
    "    appveyor = os.path.join(repo_dir, 'appveyor.yml')\n",
    "    old_v_a = replace_version(appveyor, v)\n",
    "    if old_v_a == old_v_t == v:\n",
    "        return False\n",
    "    else:\n",
    "        return True\n",
    "    \n",
    "\n",
    "def bump_repo(repo_dir, v):\n",
    "    os.chdir(repo_dir)\n",
    "    if replace_version_in_project(repo_dir, v):\n",
    "        print(subprocess.check_output(['git', 'commit', '-am', 'bump condaci to {}'.format(v)]))\n",
    "        print('bumped {}'.format(repo_dir))\n",
    "    else:\n",
    "        print('{} is already up to date'.format(repo_dir))\n",
    "    subprocess.check_output(['git', 'push', 'origin', 'master'])\n",
    "\n",
    "\n",
    "def repo_url(project_name):\n",
    "    return 'git@github.com:menpo/{}'.format(project_name)\n",
    "    \n",
    "    \n",
    "def clone_repo(project_name):\n",
    "    repo_url = 'git@github.com:menpo/{}'.format(project_name)\n",
    "    print('cloning {}'.format(repo_url))\n",
    "    subprocess.check_output(['git', 'clone', repo_url])"
   ]
  },
  {
   "cell_type": "code",
   "execution_count": null,
   "metadata": {
    "collapsed": false
   },
   "outputs": [],
   "source": [
    "v = '0.3.0'\n",
    "working_dir = '/Users/jab08/bump_condaci'"
   ]
  },
  {
   "cell_type": "code",
   "execution_count": null,
   "metadata": {
    "collapsed": false
   },
   "outputs": [],
   "source": [
    "if not os.path.isdir(working_dir):\n",
    "    os.mkdir(working_dir)\n",
    "os.chdir(working_dir)"
   ]
  },
  {
   "cell_type": "code",
   "execution_count": null,
   "metadata": {
    "collapsed": false
   },
   "outputs": [],
   "source": [
    "from subprocess import CalledProcessError\n",
    "\n",
    "for project in PROJECTS:\n",
    "    os.chdir(working_dir)\n",
    "    try:\n",
    "        clone_repo(project)\n",
    "    except CalledProcessError:\n",
    "        print('repo already cloned')\n",
    "        pass\n",
    "    repo_dir = os.path.join(working_dir, project)\n",
    "    print('attempting to bump {}'.format(project))\n",
    "    bump_repo(repo_dir, v)"
   ]
  }
 ],
 "metadata": {
  "kernelspec": {
   "display_name": "Python 2",
   "language": "python",
   "name": "python2"
  },
  "language_info": {
   "codemirror_mode": {
    "name": "ipython",
    "version": 2
   },
   "file_extension": ".py",
   "mimetype": "text/x-python",
   "name": "python",
   "nbconvert_exporter": "python",
   "pygments_lexer": "ipython2",
   "version": "2.7.10"
  }
 },
 "nbformat": 4,
 "nbformat_minor": 0
}
